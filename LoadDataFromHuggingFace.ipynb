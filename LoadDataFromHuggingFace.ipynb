{
 "cells": [
  {
   "cell_type": "code",
   "execution_count": 1,
   "metadata": {},
   "outputs": [],
   "source": [
    "import cv2\n",
    "import numpy as np\n",
    "import pandas as pd\n",
    "from huggingface_hub import login\n",
    "from sklearn.model_selection import train_test_split"
   ]
  },
  {
   "cell_type": "code",
   "execution_count": 2,
   "metadata": {},
   "outputs": [
    {
     "data": {
      "application/vnd.jupyter.widget-view+json": {
       "model_id": "335594b4ba5345e79268c82881a4748b",
       "version_major": 2,
       "version_minor": 0
      },
      "text/plain": [
       "VBox(children=(HTML(value='<center> <img\\nsrc=https://huggingface.co/front/assets/huggingface_logo-noborder.sv…"
      ]
     },
     "metadata": {},
     "output_type": "display_data"
    }
   ],
   "source": [
    "login()"
   ]
  },
  {
   "cell_type": "markdown",
   "metadata": {},
   "source": [
    "Get data"
   ]
  },
  {
   "cell_type": "code",
   "execution_count": null,
   "metadata": {},
   "outputs": [],
   "source": [
    "dfs = []\n",
    "\n",
    "for i in range(0, 43):\n",
    "    if i < 10:\n",
    "        temp_df = pd.read_parquet(f\"hf://datasets/MichaelP84/manga-colorization-dataset/data/train-0000{i}-of-00043.parquet\", \n",
    "                     columns=[\"bw_image\", \"color_image\"],\n",
    "                     filters=[(\"title\", \"==\", \"Naruto Full Color\")])\n",
    "    else:\n",
    "        temp_df = pd.read_parquet(f\"hf://datasets/MichaelP84/manga-colorization-dataset/data/train-000{i}-of-00043.parquet\", \n",
    "                     columns=[\"bw_image\", \"color_image\"],\n",
    "                     filters=[(\"title\", \"==\", \"Naruto Full Color\")])\n",
    "    dfs.append(temp_df)\n",
    "\n",
    "df = pd.concat(dfs, ignore_index=True)"
   ]
  },
  {
   "cell_type": "code",
   "execution_count": 17,
   "metadata": {},
   "outputs": [
    {
     "name": "stdout",
     "output_type": "stream",
     "text": [
      "<class 'pandas.core.frame.DataFrame'>\n",
      "RangeIndex: 2474 entries, 0 to 2473\n",
      "Data columns (total 2 columns):\n",
      " #   Column       Non-Null Count  Dtype \n",
      "---  ------       --------------  ----- \n",
      " 0   bw_image     2474 non-null   object\n",
      " 1   color_image  2474 non-null   object\n",
      "dtypes: object(2)\n",
      "memory usage: 38.8+ KB\n"
     ]
    },
    {
     "data": {
      "text/html": [
       "<div>\n",
       "<style scoped>\n",
       "    .dataframe tbody tr th:only-of-type {\n",
       "        vertical-align: middle;\n",
       "    }\n",
       "\n",
       "    .dataframe tbody tr th {\n",
       "        vertical-align: top;\n",
       "    }\n",
       "\n",
       "    .dataframe thead th {\n",
       "        text-align: right;\n",
       "    }\n",
       "</style>\n",
       "<table border=\"1\" class=\"dataframe\">\n",
       "  <thead>\n",
       "    <tr style=\"text-align: right;\">\n",
       "      <th></th>\n",
       "      <th>bw_image</th>\n",
       "      <th>color_image</th>\n",
       "    </tr>\n",
       "  </thead>\n",
       "  <tbody>\n",
       "    <tr>\n",
       "      <th>0</th>\n",
       "      <td>{'bytes': b'\\x89PNG\\r\\n\\x1a\\n\\x00\\x00\\x00\\rIHD...</td>\n",
       "      <td>{'bytes': b'\\x89PNG\\r\\n\\x1a\\n\\x00\\x00\\x00\\rIHD...</td>\n",
       "    </tr>\n",
       "    <tr>\n",
       "      <th>1</th>\n",
       "      <td>{'bytes': b'\\x89PNG\\r\\n\\x1a\\n\\x00\\x00\\x00\\rIHD...</td>\n",
       "      <td>{'bytes': b'\\x89PNG\\r\\n\\x1a\\n\\x00\\x00\\x00\\rIHD...</td>\n",
       "    </tr>\n",
       "    <tr>\n",
       "      <th>2</th>\n",
       "      <td>{'bytes': b'\\x89PNG\\r\\n\\x1a\\n\\x00\\x00\\x00\\rIHD...</td>\n",
       "      <td>{'bytes': b'\\x89PNG\\r\\n\\x1a\\n\\x00\\x00\\x00\\rIHD...</td>\n",
       "    </tr>\n",
       "    <tr>\n",
       "      <th>3</th>\n",
       "      <td>{'bytes': b'\\x89PNG\\r\\n\\x1a\\n\\x00\\x00\\x00\\rIHD...</td>\n",
       "      <td>{'bytes': b'\\x89PNG\\r\\n\\x1a\\n\\x00\\x00\\x00\\rIHD...</td>\n",
       "    </tr>\n",
       "    <tr>\n",
       "      <th>4</th>\n",
       "      <td>{'bytes': b'\\x89PNG\\r\\n\\x1a\\n\\x00\\x00\\x00\\rIHD...</td>\n",
       "      <td>{'bytes': b'\\x89PNG\\r\\n\\x1a\\n\\x00\\x00\\x00\\rIHD...</td>\n",
       "    </tr>\n",
       "  </tbody>\n",
       "</table>\n",
       "</div>"
      ],
      "text/plain": [
       "                                            bw_image  \\\n",
       "0  {'bytes': b'\\x89PNG\\r\\n\\x1a\\n\\x00\\x00\\x00\\rIHD...   \n",
       "1  {'bytes': b'\\x89PNG\\r\\n\\x1a\\n\\x00\\x00\\x00\\rIHD...   \n",
       "2  {'bytes': b'\\x89PNG\\r\\n\\x1a\\n\\x00\\x00\\x00\\rIHD...   \n",
       "3  {'bytes': b'\\x89PNG\\r\\n\\x1a\\n\\x00\\x00\\x00\\rIHD...   \n",
       "4  {'bytes': b'\\x89PNG\\r\\n\\x1a\\n\\x00\\x00\\x00\\rIHD...   \n",
       "\n",
       "                                         color_image  \n",
       "0  {'bytes': b'\\x89PNG\\r\\n\\x1a\\n\\x00\\x00\\x00\\rIHD...  \n",
       "1  {'bytes': b'\\x89PNG\\r\\n\\x1a\\n\\x00\\x00\\x00\\rIHD...  \n",
       "2  {'bytes': b'\\x89PNG\\r\\n\\x1a\\n\\x00\\x00\\x00\\rIHD...  \n",
       "3  {'bytes': b'\\x89PNG\\r\\n\\x1a\\n\\x00\\x00\\x00\\rIHD...  \n",
       "4  {'bytes': b'\\x89PNG\\r\\n\\x1a\\n\\x00\\x00\\x00\\rIHD...  "
      ]
     },
     "execution_count": 17,
     "metadata": {},
     "output_type": "execute_result"
    }
   ],
   "source": [
    "df.info()\n",
    "df.head()"
   ]
  },
  {
   "cell_type": "code",
   "execution_count": 18,
   "metadata": {},
   "outputs": [],
   "source": [
    "def preprocess_images(df, target_size=(256, 256)):\n",
    "    \"\"\"\n",
    "    Preprocess images stored as bytes in dataframe to target size numpy arrays\n",
    "    \n",
    "    Args:\n",
    "        df: Pandas dataframe with 'bw_image' and 'color_image' columns containing bytes\n",
    "        target_size: Tuple (height, width) for output images\n",
    "        \n",
    "    Returns:\n",
    "        Tuple of (bw_images, color_images) as numpy arrays\n",
    "    \"\"\"\n",
    "    bw_images = []\n",
    "    color_images = []\n",
    "    \n",
    "    for idx in range(len(df)):\n",
    "        try:\n",
    "            # Process black and white image\n",
    "            bw_bytes = df['bw_image'].iloc[idx]['bytes']\n",
    "            bw_img = cv2.imdecode(np.frombuffer(bw_bytes, np.uint8), cv2.IMREAD_GRAYSCALE)\n",
    "            bw_img = cv2.resize(bw_img, target_size[::-1])\n",
    "            bw_img = np.expand_dims(bw_img, axis=-1)  # (256, 256, 1)\n",
    "            bw_images.append(bw_img)\n",
    "            \n",
    "            # Process color image\n",
    "            color_bytes = df['color_image'].iloc[idx]['bytes']\n",
    "            color_img = cv2.imdecode(np.frombuffer(color_bytes, np.uint8), cv2.IMREAD_COLOR)\n",
    "            color_img = cv2.cvtColor(color_img, cv2.COLOR_BGR2RGB)  # Convert to RGB\n",
    "            color_img = cv2.resize(color_img, target_size[::-1])  # (256, 256, 3)\n",
    "            color_images.append(color_img)\n",
    "            \n",
    "        except Exception as e:\n",
    "            print(f\"Error processing row {idx}: {str(e)}\")\n",
    "            continue\n",
    "    \n",
    "    # Convert to numpy arrays and normalize\n",
    "    bw_images = np.array(bw_images, dtype=np.float32) / 255.0\n",
    "    color_images = np.array(color_images, dtype=np.float32) / 255.0\n",
    "    \n",
    "    return bw_images, color_images"
   ]
  },
  {
   "cell_type": "code",
   "execution_count": 19,
   "metadata": {},
   "outputs": [],
   "source": [
    "bw_arrays, color_arrays = preprocess_images(df)"
   ]
  },
  {
   "cell_type": "code",
   "execution_count": 21,
   "metadata": {},
   "outputs": [],
   "source": [
    "bw_arrays_train, bw_arrays_test, color_arrays_train, color_arrays_test = train_test_split(bw_arrays, color_arrays, test_size=0.05, random_state=42)"
   ]
  },
  {
   "cell_type": "code",
   "execution_count": 22,
   "metadata": {},
   "outputs": [
    {
     "name": "stdout",
     "output_type": "stream",
     "text": [
      "Grayscale images shape: (2350, 256, 256, 1)\n",
      "Colored images shape: (2350, 256, 256, 3)\n",
      "Grayscale images shape: (124, 256, 256, 1)\n",
      "Colored images shape: (124, 256, 256, 3)\n"
     ]
    }
   ],
   "source": [
    "print(f\"Grayscale images shape: {bw_arrays_train.shape}\")  # (N, 256, 256, 1)\n",
    "print(f\"Colored images shape: {color_arrays_train.shape}\")    # (N, 256, 256, 3)\n",
    "print(f\"Grayscale images shape: {bw_arrays_test.shape}\")  # (N, 256, 256, 1)\n",
    "print(f\"Colored images shape: {color_arrays_test.shape}\")    # (N, 256, 256, 3)"
   ]
  },
  {
   "cell_type": "code",
   "execution_count": null,
   "metadata": {},
   "outputs": [],
   "source": [
    "np.save(\"x_train_grayN2.npy\", bw_arrays_train)\n",
    "np.save(\"x_train_colorN2.npy\", color_arrays_train)\n",
    "np.save(\"x_test_grayN2.npy\", bw_arrays_test)    \n",
    "np.save(\"x_test_colorN2.npy\", color_arrays_test)"
   ]
  }
 ],
 "metadata": {
  "kernelspec": {
   "display_name": "base",
   "language": "python",
   "name": "python3"
  },
  "language_info": {
   "codemirror_mode": {
    "name": "ipython",
    "version": 3
   },
   "file_extension": ".py",
   "mimetype": "text/x-python",
   "name": "python",
   "nbconvert_exporter": "python",
   "pygments_lexer": "ipython3",
   "version": "3.12.7"
  }
 },
 "nbformat": 4,
 "nbformat_minor": 2
}
